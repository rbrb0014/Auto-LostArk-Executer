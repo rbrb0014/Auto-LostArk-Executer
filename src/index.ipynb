{
 "metadata": {
  "language_info": {
   "codemirror_mode": {
    "name": "ipython",
    "version": 3
   },
   "file_extension": ".py",
   "mimetype": "text/x-python",
   "name": "python",
   "nbconvert_exporter": "python",
   "pygments_lexer": "ipython3",
   "version": "3.9.6"
  },
  "orig_nbformat": 4,
  "kernelspec": {
   "name": "python3",
   "display_name": "Python 3.9.6 64-bit"
  },
  "interpreter": {
   "hash": "63fd5069d213b44bf678585dea6b12cceca9941eaf7f819626cde1f2670de90d"
  }
 },
 "nbformat": 4,
 "nbformat_minor": 2,
 "cells": [
  {
   "cell_type": "code",
   "execution_count": null,
   "source": [
    "import pyautogui\r\n",
    "import time\r\n",
    "pyautogui.click(x=200,y=210)\r\n",
    "pyautogui.click(x=200,y=210)"
   ],
   "outputs": [],
   "metadata": {}
  },
  {
   "cell_type": "code",
   "execution_count": null,
   "source": [
    "\r\n",
    "from skimage.metrics import structural_similarity\r\n",
    "imgBack = cv2.imread('background.jpg')\r\n",
    "while True:\r\n",
    "    time.sleep(1)\r\n",
    "    pyautogui.screenshot('./loginPage.jpg',region=(960,600,50,50))\r\n",
    "    imgLogin = cv2.imread('loginPage.jpg')\r\n",
    "\r\n",
    "    grayBack = cv2.cvtColor(imgBack,cv2.COLOR_BGR2GRAY)\r\n",
    "    grayLogin = cv2.cvtColor(imgLogin,cv2.COLOR_BGR2GRAY)\r\n",
    "\r\n",
    "    (score, diff) = structural_similarity(grayBack, grayLogin, full=True)\r\n",
    "    diff = (diff * 255).astype(\"uint8\")\r\n",
    "\r\n",
    "    if score>0.9:\r\n",
    "        print(\"로그인창 발견\")\r\n",
    "        pyautogui.click(x=980,y=630)\r\n",
    "        break;"
   ],
   "outputs": [],
   "metadata": {}
  },
  {
   "cell_type": "code",
   "execution_count": null,
   "source": [
    "imgQrCheck = cv2.imread('qrCheck.jpg')\r\n",
    "while True:\r\n",
    "    time.sleep(1)\r\n",
    "    pyautogui.screenshot('./qrLogin.jpg',region=(740,725,200,50))\r\n",
    "    imgQrLogin = cv2.imread('qrLogin.jpg')\r\n",
    "\r\n",
    "    grayQrCheck = cv2.cvtColor(imgQrCheck,cv2.COLOR_BGR2GRAY)\r\n",
    "    grayQrLogin = cv2.cvtColor(imgQrLogin,cv2.COLOR_BGR2GRAY)\r\n",
    "\r\n",
    "    (score, diff) = structural_similarity(grayBack, grayLogin, full=True)\r\n",
    "    diff = (diff * 255).astype(\"uint8\")\r\n",
    "\r\n",
    "    if score>0.9:\r\n",
    "        print(\"qr로그인창 발견\")\r\n",
    "        pyautogui.click(x=900,y=770)\r\n",
    "        break;"
   ],
   "outputs": [],
   "metadata": {}
  },
  {
   "cell_type": "code",
   "execution_count": null,
   "source": [
    "pyautogui.screenshot('./zbar.jpg',region=(870,530,160,200))\r\n",
    "pyautogui.screenshot('./count.jpg',region=(962,484,37,30))"
   ],
   "outputs": [],
   "metadata": {}
  },
  {
   "cell_type": "code",
   "execution_count": null,
   "source": [
    "'''\r\n",
    "made by 안산드레이아스\r\n",
    "https://ansan-survivor.tistory.com/\r\n",
    "'''\r\n",
    "\r\n",
    "# Python Version 3.7.1\r\n",
    "\r\n",
    "import pyzbar.pyzbar as pyzbar  # pip install pyzbar\r\n",
    "import cv2  # pip install opencv-python\r\n",
    "import webbrowser\r\n",
    "\r\n",
    "# 바코드 탐지하는 엔진 (바코드 및 QR코드 탐지)\r\n",
    "\r\n",
    "\r\n",
    "def decode(im):\r\n",
    "    # Find barcodes and QR codes\r\n",
    "    decodedObjects = pyzbar.decode(im)\r\n",
    "\r\n",
    "    # Print results\r\n",
    "    for obj in decodedObjects:\r\n",
    "        print(obj.data)\r\n",
    "        webbrowser.open(obj.data)\r\n",
    "        # 화면 최대화\r\n",
    "        pyautogui.keyDown('altleft')\r\n",
    "        pyautogui.keyDown('space')\r\n",
    "        pyautogui.keyUp('altleft')\r\n",
    "        pyautogui.keyUp('space')\r\n",
    "        pyautogui.keyDown('x')\r\n",
    "        pyautogui.keyUp('x')\r\n",
    "        \r\n",
    "\r\n",
    "    return decodedObjects\r\n",
    "\r\n",
    "    # 파일명 zbar.jpg의 이미지에서 바코드를 탐지하면 해당 코드를 리턴\r\n",
    "    # Main\r\n",
    "if __name__ == '__main__':\r\n",
    "    # Read image\r\n",
    "    im = cv2.imread('zbar.jpg')\r\n",
    "\r\n",
    "    decodedObjects = decode(im)"
   ],
   "outputs": [],
   "metadata": {}
  },
  {
   "cell_type": "code",
   "execution_count": null,
   "source": [
    "import pytesseract as tesseract\r\n",
    "import re\r\n",
    "import cv2\r\n",
    "tesseract.pytesseract.tesseract_cmd = 'C:\\Program Files\\Tesseract-OCR\\\\tesseract'\r\n",
    "img1 = cv2.imread(\"count.jpg\", cv2.IMREAD_COLOR)\r\n",
    "hsv1 = cv2.cvtColor(img1, cv2.COLOR_BGR2RGB)\r\n",
    "text1 = tesseract.image_to_string(hsv1, config='--psm 6')\r\n",
    "split1 = re.split('\\s',text1)\r\n",
    "print(split1)\r\n",
    "\r\n",
    "time.sleep(2)\r\n",
    "pyautogui.screenshot('./choice.jpg',region=(300,640,1320,40))\r\n",
    "\r\n",
    "img2 = cv2.imread(\"choice.jpg\", cv2.IMREAD_COLOR)\r\n",
    "hsv2 = cv2.cvtColor(img2, cv2.COLOR_BGR2RGB)\r\n",
    "text2 = tesseract.image_to_string(hsv2, config='--psm 6')\r\n",
    "split2 = re.split('\\s',text2)\r\n",
    "print(split2)\r\n",
    "\r\n",
    "for i in range(3):\r\n",
    "    if(split1[0] in split2[i]):\r\n",
    "        pyautogui.click(x=300+660*i,y=660)\r\n",
    "        print(i+1)\r\n",
    "        pyautogui.keyDown('ctrlleft')\r\n",
    "        pyautogui.keyDown('w')\r\n",
    "        pyautogui.keyUp('ctrlleft')\r\n",
    "        pyautogui.keyUp('w')\r\n",
    "        time.sleep(3)\r\n",
    "        pyautogui.click(x=1400,y=500)\r\n",
    "        print('로아 실행 완료')\r\n"
   ],
   "outputs": [],
   "metadata": {}
  },
  {
   "cell_type": "code",
   "execution_count": null,
   "source": [
    "\r\n",
    "pyautogui.screenshot('./zbarCheck.jpg', region=(895, 587, 25, 25))"
   ],
   "outputs": [],
   "metadata": {}
  }
 ]
}